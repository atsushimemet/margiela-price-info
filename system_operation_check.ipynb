{
 "cells": [
  {
   "cell_type": "code",
   "execution_count": 39,
   "id": "1b01e94c-8585-4818-becb-3a9fa49b0264",
   "metadata": {},
   "outputs": [],
   "source": [
    "import datetime\n",
    "import json\n",
    "import os\n",
    "\n",
    "import pandas as pd\n",
    "import requests\n",
    "from logzero import logger\n",
    "\n",
    "from src.config import MAX_PAGE, REQ_URL, WANT_ITEMS, req_params, path_output_dir"
   ]
  },
  {
   "cell_type": "code",
   "execution_count": 25,
   "id": "16099123-9483-4b75-b74a-2d824a25cccd",
   "metadata": {},
   "outputs": [],
   "source": [
    "brand = \"margiela\"\n",
    "item = \"財布\""
   ]
  },
  {
   "cell_type": "code",
   "execution_count": 26,
   "id": "ee5beb9d-60cf-4071-a9ed-5b95d0c8d18f",
   "metadata": {},
   "outputs": [],
   "source": [
    "cnt = 1\n",
    "keyword = f\"{brand} {item} 中古\"\n",
    "\n",
    "req_params[\"page\"] = cnt\n",
    "req_params[\"keyword\"] = keyword\n",
    "df = pd.DataFrame(columns=WANT_ITEMS)"
   ]
  },
  {
   "cell_type": "code",
   "execution_count": 27,
   "id": "1202d30f-298c-4b69-bbc7-b0b741979153",
   "metadata": {},
   "outputs": [
    {
     "name": "stderr",
     "output_type": "stream",
     "text": [
      "[I 240320 15:40:50 2510635517:2] loop start!\n"
     ]
    }
   ],
   "source": [
    "# ページループ\n",
    "logger.info(\"loop start!\")\n",
    "while True:\n",
    "    req_params[\"page\"] = cnt\n",
    "    res = requests.get(REQ_URL, req_params)\n",
    "    res_code = res.status_code\n",
    "    res = json.loads(res.text)\n",
    "    if res_code != 200:\n",
    "        print(\n",
    "            f\"\"\"\n",
    "        ErrorCode -> {res_code}\\n\n",
    "        Error -> {res['error']}\\n\n",
    "        Page -> {cnt}\"\"\"\n",
    "        )\n",
    "    else:\n",
    "        if res[\"hits\"] == 0:\n",
    "            print(\"返ってきた商品数の数が0なので、ループ終了\")\n",
    "            break\n",
    "        tmp_df = pd.DataFrame(res[\"Items\"])[WANT_ITEMS]\n",
    "        df = pd.concat([df, tmp_df], ignore_index=True)\n",
    "    if cnt == MAX_PAGE:\n",
    "        print(\"MAX PAGEに到達したので、ループ終了\")\n",
    "        break\n",
    "    break\n",
    "    logger.info(f\"{cnt} end!\")\n",
    "    cnt += 1\n",
    "    # リクエスト制限回避\n",
    "    sleep(1)"
   ]
  },
  {
   "cell_type": "code",
   "execution_count": 29,
   "id": "3d2690f7-a38a-414f-9457-750e5fe6e83b",
   "metadata": {},
   "outputs": [],
   "source": [
    "# df"
   ]
  },
  {
   "cell_type": "code",
   "execution_count": 32,
   "id": "2a7cacab-3dbf-4d9b-9b77-b9977e3ecd04",
   "metadata": {},
   "outputs": [
    {
     "name": "stdout",
     "output_type": "stream",
     "text": [
      "Finished!!\n"
     ]
    }
   ],
   "source": [
    "print(\"Finished!!\")\n",
    "today = datetime.datetime.today().strftime(\"%Y%m%d\")"
   ]
  },
  {
   "cell_type": "code",
   "execution_count": 33,
   "id": "c4b68b94-ab89-4709-b215-42e01a028fe7",
   "metadata": {},
   "outputs": [],
   "source": [
    "# データフレームからリストを作成するための空のリスト\n",
    "result_list = []\n",
    "\n",
    "# データフレームの各行をループで処理\n",
    "for index, row in df.iterrows():\n",
    "    item_name = row[\"itemName\"]\n",
    "    price = row[\"itemPrice\"]\n",
    "    url = row[\"itemUrl\"]\n",
    "    result_list.append([item_name, price, url])"
   ]
  },
  {
   "cell_type": "code",
   "execution_count": 35,
   "id": "7fe0ae1b-31f2-410e-b190-c39d7b57e514",
   "metadata": {},
   "outputs": [],
   "source": [
    "# result_list"
   ]
  },
  {
   "cell_type": "code",
   "execution_count": 40,
   "id": "c95a5ee2-ac8b-43d8-8a8f-5aeeba1d045e",
   "metadata": {},
   "outputs": [],
   "source": [
    "# 結果のリストを表示\n",
    "for i, data in enumerate(result_list):\n",
    "    tweet_text = f\"アイテム名: {data[0]}\\n価格: {data[1]}\\nURL: {data[2]}\"\n",
    "    # 本日日付フォルダ作成\n",
    "    if not os.path.isdir(path_output_dir / brand):\n",
    "        os.mkdir(path_output_dir / brand)\n",
    "    # テキストファイルに書き込む\n",
    "    with open(path_output_dir / brand / f\"tweet_{today}_{i}.txt\", \"w\") as file:\n",
    "        file.write(tweet_text)"
   ]
  },
  {
   "cell_type": "code",
   "execution_count": null,
   "id": "adb12428-bdd8-4130-9a43-409707f5cf1f",
   "metadata": {},
   "outputs": [],
   "source": []
  }
 ],
 "metadata": {
  "kernelspec": {
   "display_name": "Python 3 (ipykernel)",
   "language": "python",
   "name": "python3"
  },
  "language_info": {
   "codemirror_mode": {
    "name": "ipython",
    "version": 3
   },
   "file_extension": ".py",
   "mimetype": "text/x-python",
   "name": "python",
   "nbconvert_exporter": "python",
   "pygments_lexer": "ipython3",
   "version": "3.10.5"
  }
 },
 "nbformat": 4,
 "nbformat_minor": 5
}
