{
 "cells": [
  {
   "cell_type": "markdown",
   "id": "5687469e-01d4-481e-96fc-1ababa1fdb16",
   "metadata": {},
   "source": [
    "# get_product_info"
   ]
  },
  {
   "cell_type": "code",
   "execution_count": 39,
   "id": "1b01e94c-8585-4818-becb-3a9fa49b0264",
   "metadata": {},
   "outputs": [],
   "source": [
    "import datetime\n",
    "import json\n",
    "import os\n",
    "\n",
    "import pandas as pd\n",
    "import requests\n",
    "from logzero import logger\n",
    "\n",
    "from src.config import MAX_PAGE, REQ_URL, WANT_ITEMS, path_output_dir, req_params"
   ]
  },
  {
   "cell_type": "code",
   "execution_count": 25,
   "id": "16099123-9483-4b75-b74a-2d824a25cccd",
   "metadata": {},
   "outputs": [],
   "source": [
    "brand = \"margiela\"\n",
    "item = \"財布\""
   ]
  },
  {
   "cell_type": "code",
   "execution_count": 26,
   "id": "ee5beb9d-60cf-4071-a9ed-5b95d0c8d18f",
   "metadata": {},
   "outputs": [],
   "source": [
    "cnt = 1\n",
    "keyword = f\"{brand} {item} 中古\"\n",
    "\n",
    "req_params[\"page\"] = cnt\n",
    "req_params[\"keyword\"] = keyword\n",
    "df = pd.DataFrame(columns=WANT_ITEMS)"
   ]
  },
  {
   "cell_type": "code",
   "execution_count": 27,
   "id": "1202d30f-298c-4b69-bbc7-b0b741979153",
   "metadata": {},
   "outputs": [
    {
     "name": "stderr",
     "output_type": "stream",
     "text": [
      "[I 240320 15:40:50 2510635517:2] loop start!\n"
     ]
    }
   ],
   "source": [
    "# ページループ\n",
    "logger.info(\"loop start!\")\n",
    "while True:\n",
    "    req_params[\"page\"] = cnt\n",
    "    res = requests.get(REQ_URL, req_params)\n",
    "    res_code = res.status_code\n",
    "    res = json.loads(res.text)\n",
    "    if res_code != 200:\n",
    "        print(\n",
    "            f\"\"\"\n",
    "        ErrorCode -> {res_code}\\n\n",
    "        Error -> {res['error']}\\n\n",
    "        Page -> {cnt}\"\"\"\n",
    "        )\n",
    "    else:\n",
    "        if res[\"hits\"] == 0:\n",
    "            print(\"返ってきた商品数の数が0なので、ループ終了\")\n",
    "            break\n",
    "        tmp_df = pd.DataFrame(res[\"Items\"])[WANT_ITEMS]\n",
    "        df = pd.concat([df, tmp_df], ignore_index=True)\n",
    "    if cnt == MAX_PAGE:\n",
    "        print(\"MAX PAGEに到達したので、ループ終了\")\n",
    "        break\n",
    "    break\n",
    "    logger.info(f\"{cnt} end!\")\n",
    "    cnt += 1\n",
    "    # リクエスト制限回避\n",
    "    sleep(1)"
   ]
  },
  {
   "cell_type": "code",
   "execution_count": 29,
   "id": "3d2690f7-a38a-414f-9457-750e5fe6e83b",
   "metadata": {},
   "outputs": [],
   "source": [
    "# df"
   ]
  },
  {
   "cell_type": "code",
   "execution_count": 32,
   "id": "2a7cacab-3dbf-4d9b-9b77-b9977e3ecd04",
   "metadata": {},
   "outputs": [
    {
     "name": "stdout",
     "output_type": "stream",
     "text": [
      "Finished!!\n"
     ]
    }
   ],
   "source": [
    "print(\"Finished!!\")\n",
    "today = datetime.datetime.today().strftime(\"%Y%m%d\")"
   ]
  },
  {
   "cell_type": "code",
   "execution_count": 33,
   "id": "c4b68b94-ab89-4709-b215-42e01a028fe7",
   "metadata": {},
   "outputs": [],
   "source": [
    "# データフレームからリストを作成するための空のリスト\n",
    "result_list = []\n",
    "\n",
    "# データフレームの各行をループで処理\n",
    "for index, row in df.iterrows():\n",
    "    item_name = row[\"itemName\"]\n",
    "    price = row[\"itemPrice\"]\n",
    "    url = row[\"itemUrl\"]\n",
    "    result_list.append([item_name, price, url])"
   ]
  },
  {
   "cell_type": "code",
   "execution_count": 35,
   "id": "7fe0ae1b-31f2-410e-b190-c39d7b57e514",
   "metadata": {},
   "outputs": [],
   "source": [
    "# result_list"
   ]
  },
  {
   "cell_type": "code",
   "execution_count": 40,
   "id": "c95a5ee2-ac8b-43d8-8a8f-5aeeba1d045e",
   "metadata": {},
   "outputs": [],
   "source": [
    "# 結果のリストを表示\n",
    "for i, data in enumerate(result_list):\n",
    "    tweet_text = f\"アイテム名: {data[0]}\\n価格: {data[1]}\\nURL: {data[2]}\"\n",
    "    # 本日日付フォルダ作成\n",
    "    if not os.path.isdir(path_output_dir / brand):\n",
    "        os.mkdir(path_output_dir / brand)\n",
    "    # テキストファイルに書き込む\n",
    "    with open(path_output_dir / brand / f\"tweet_{today}_{i}.txt\", \"w\") as file:\n",
    "        file.write(tweet_text)"
   ]
  },
  {
   "cell_type": "markdown",
   "id": "fc8d3edf-b219-4f37-94c2-8d05bbcbbc3a",
   "metadata": {},
   "source": [
    "# auto_post_margiela"
   ]
  },
  {
   "cell_type": "markdown",
   "id": "fe4ad326-38a7-408b-9070-72935beabb28",
   "metadata": {},
   "source": [
    "[X v2エンドポイントupdate後動作しなかったが、できるようになった参考](https://scr.marketing-wizard.biz/dev/tweepy-twitter-apiv2)"
   ]
  },
  {
   "cell_type": "code",
   "execution_count": 31,
   "id": "0c97eba0-69a8-4d49-8a7c-20a8ca6d50bf",
   "metadata": {},
   "outputs": [],
   "source": [
    "import os\n",
    "\n",
    "import tweepy\n",
    "from logzero import logger\n",
    "from time import sleep\n",
    "from src.config import TwitterAPI, path_output_dir"
   ]
  },
  {
   "cell_type": "code",
   "execution_count": 20,
   "id": "2e194e22-ec7e-46c4-9c77-afbdb4230fad",
   "metadata": {},
   "outputs": [],
   "source": [
    "yyyymmdd = \"20240320\"\n",
    "brand = \"margiela\""
   ]
  },
  {
   "cell_type": "code",
   "execution_count": 26,
   "id": "67e975f8-7af1-48a3-aa5a-9782c5ce278a",
   "metadata": {},
   "outputs": [],
   "source": [
    "client = tweepy.Client(\n",
    "    bearer_token=TwitterAPI.BearerToken,\n",
    "    consumer_key=TwitterAPI.Key,\n",
    "    consumer_secret=TwitterAPI.KeySecret,\n",
    "    access_token=TwitterAPI.AccessToken,\n",
    "    access_token_secret=TwitterAPI.AccessTokenSecret,\n",
    ")"
   ]
  },
  {
   "cell_type": "code",
   "execution_count": 21,
   "id": "b73728df-03cb-48ce-ab00-5417ce235c99",
   "metadata": {},
   "outputs": [],
   "source": [
    "def get_id_list(yyyymmdd: str, brand: str) -> list:\n",
    "    return [\n",
    "        int(f.split(\"_\")[2].split(\".txt\")[0])\n",
    "        for f in os.listdir(path_output_dir / brand)\n",
    "        if f.startswith(\"tweet\") and yyyymmdd in f\n",
    "    ]"
   ]
  },
  {
   "cell_type": "code",
   "execution_count": 32,
   "id": "50c98961-01da-46d1-a664-549cf6602cee",
   "metadata": {},
   "outputs": [
    {
     "name": "stderr",
     "output_type": "stream",
     "text": [
      "[I 240320 16:15:20 3158587560:4] auto load tweet:0\n",
      "[I 240320 16:15:21 3158587560:11] 403 Forbidden\n",
      "    You are not allowed to create a Tweet with duplicate content.\n",
      "[I 240320 16:15:21 3158587560:4] auto load tweet:1\n",
      "[I 240320 16:15:22 3158587560:4] auto load tweet:2\n",
      "[I 240320 16:15:23 3158587560:4] auto load tweet:3\n",
      "[I 240320 16:15:25 3158587560:4] auto load tweet:4\n",
      "[I 240320 16:15:26 3158587560:4] auto load tweet:5\n",
      "[I 240320 16:15:27 3158587560:4] auto load tweet:6\n",
      "[I 240320 16:15:29 3158587560:4] auto load tweet:7\n",
      "[I 240320 16:15:30 3158587560:4] auto load tweet:8\n",
      "[I 240320 16:15:32 3158587560:4] auto load tweet:9\n",
      "[I 240320 16:15:33 3158587560:4] auto load tweet:10\n",
      "[I 240320 16:15:34 3158587560:4] auto load tweet:11\n",
      "[I 240320 16:15:36 3158587560:4] auto load tweet:12\n",
      "[I 240320 16:15:37 3158587560:4] auto load tweet:13\n",
      "[I 240320 16:15:38 3158587560:4] auto load tweet:14\n",
      "[I 240320 16:15:40 3158587560:4] auto load tweet:15\n",
      "[I 240320 16:15:41 3158587560:4] auto load tweet:16\n",
      "[I 240320 16:15:42 3158587560:4] auto load tweet:17\n",
      "[I 240320 16:15:44 3158587560:4] auto load tweet:18\n",
      "[I 240320 16:15:45 3158587560:4] auto load tweet:19\n",
      "[I 240320 16:15:46 3158587560:4] auto load tweet:20\n",
      "[I 240320 16:15:47 3158587560:4] auto load tweet:21\n",
      "[I 240320 16:15:49 3158587560:4] auto load tweet:22\n",
      "[I 240320 16:15:50 3158587560:4] auto load tweet:23\n",
      "[I 240320 16:15:51 3158587560:4] auto load tweet:24\n",
      "[I 240320 16:15:53 3158587560:4] auto load tweet:25\n",
      "[I 240320 16:15:54 3158587560:4] auto load tweet:26\n",
      "[I 240320 16:15:55 3158587560:4] auto load tweet:27\n",
      "[I 240320 16:15:57 3158587560:4] auto load tweet:28\n",
      "[I 240320 16:15:58 3158587560:4] auto load tweet:29\n"
     ]
    }
   ],
   "source": [
    "start_idx = min(get_id_list(yyyymmdd, brand))\n",
    "end_idx = max(get_id_list(yyyymmdd, brand))\n",
    "for idx in range(start_idx, end_idx + 1):\n",
    "    logger.info(f\"auto load tweet:{idx}\")\n",
    "    try:\n",
    "        with open(path_output_dir / brand / f\"tweet_{yyyymmdd}_{idx}.txt\", \"r\") as f:\n",
    "            try:\n",
    "                client.create_tweet(text=f.read())\n",
    "                sleep(1)\n",
    "            except tweepy.errors.Forbidden as e:\n",
    "                logger.info(f\"{e}\")\n",
    "    except FileNotFoundError:\n",
    "        logger.info(f\"file not found:{idx}\")\n",
    "        continue"
   ]
  }
 ],
 "metadata": {
  "kernelspec": {
   "display_name": "Python 3 (ipykernel)",
   "language": "python",
   "name": "python3"
  },
  "language_info": {
   "codemirror_mode": {
    "name": "ipython",
    "version": 3
   },
   "file_extension": ".py",
   "mimetype": "text/x-python",
   "name": "python",
   "nbconvert_exporter": "python",
   "pygments_lexer": "ipython3",
   "version": "3.10.5"
  },
  "toc-autonumbering": true
 },
 "nbformat": 4,
 "nbformat_minor": 5
}
