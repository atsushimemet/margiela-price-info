{
 "cells": [
  {
   "cell_type": "code",
   "execution_count": 1,
   "id": "2ed573d9-0119-4842-a299-5613e792325d",
   "metadata": {},
   "outputs": [],
   "source": [
    "import os\n",
    "from pathlib import Path"
   ]
  },
  {
   "cell_type": "code",
   "execution_count": 2,
   "id": "3f6d177c-e512-4417-bdb3-e016fc7843eb",
   "metadata": {},
   "outputs": [],
   "source": [
    "brand = \"margiela\"\n",
    "yyyymmdd = \"20230614\""
   ]
  },
  {
   "cell_type": "code",
   "execution_count": 3,
   "id": "8ab2e4de-b342-47ea-ad2c-f60db27058a3",
   "metadata": {},
   "outputs": [],
   "source": [
    "file_list = [f for f in os.listdir(f\"./data/output/{brand}\") if yyyymmdd in f]"
   ]
  },
  {
   "cell_type": "code",
   "execution_count": 6,
   "id": "ca4bdc78-4eb6-478b-8613-9bc831171886",
   "metadata": {},
   "outputs": [],
   "source": [
    "price_list = []\n",
    "for file in file_list:\n",
    "    with open(Path(f\"data/output/{brand}\") / file, \"r\") as f:\n",
    "        price_list.append(int(f.read().split(\"価格: \")[1].split(\"\\n\")[0]))"
   ]
  },
  {
   "cell_type": "code",
   "execution_count": 7,
   "id": "3591cd34-9b84-499e-9707-395e82c4ecec",
   "metadata": {},
   "outputs": [
    {
     "data": {
      "text/plain": [
       "28842"
      ]
     },
     "execution_count": 7,
     "metadata": {},
     "output_type": "execute_result"
    }
   ],
   "source": [
    "round(sum(price_list) / len(price_list))"
   ]
  },
  {
   "cell_type": "code",
   "execution_count": 8,
   "id": "5ad89723-cf10-4e44-8423-27c78938c438",
   "metadata": {},
   "outputs": [
    {
     "data": {
      "text/plain": [
       "3630"
      ]
     },
     "execution_count": 8,
     "metadata": {},
     "output_type": "execute_result"
    }
   ],
   "source": [
    "min(price_list)"
   ]
  },
  {
   "cell_type": "code",
   "execution_count": 9,
   "id": "d154cdcf-088e-443e-848e-235625735b8d",
   "metadata": {},
   "outputs": [
    {
     "data": {
      "text/plain": [
       "93500"
      ]
     },
     "execution_count": 9,
     "metadata": {},
     "output_type": "execute_result"
    }
   ],
   "source": [
    "max(price_list)"
   ]
  }
 ],
 "metadata": {
  "kernelspec": {
   "display_name": "Python 3 (ipykernel)",
   "language": "python",
   "name": "python3"
  },
  "language_info": {
   "codemirror_mode": {
    "name": "ipython",
    "version": 3
   },
   "file_extension": ".py",
   "mimetype": "text/x-python",
   "name": "python",
   "nbconvert_exporter": "python",
   "pygments_lexer": "ipython3",
   "version": "3.10.5"
  }
 },
 "nbformat": 4,
 "nbformat_minor": 5
}
